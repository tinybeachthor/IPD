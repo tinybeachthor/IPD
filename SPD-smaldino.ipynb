{
 "cells": [
  {
   "cell_type": "markdown",
   "id": "egyptian-peace",
   "metadata": {
    "id": "cellular-identity"
   },
   "source": [
    "# SPD\n",
    "\n",
    "Replicate the design of [Smaldino et al. (2013)](https://www.journals.uchicago.edu/doi/10.1086/669615)."
   ]
  },
  {
   "cell_type": "markdown",
   "id": "disciplinary-screen",
   "metadata": {
    "id": "homeless-petroleum"
   },
   "source": [
    "## Imports"
   ]
  },
  {
   "cell_type": "code",
   "execution_count": null,
   "id": "biblical-costume",
   "metadata": {
    "colab": {
     "base_uri": "https://localhost:8080/"
    },
    "id": "lucky-miracle",
    "outputId": "9d9a3cf1-ac30-4bcb-ecda-c38e236e001c"
   },
   "outputs": [],
   "source": [
    "# model\n",
    "from mesa_fork import Model, Agent\n",
    "from mesa_fork.time import RandomActivation\n",
    "from mesa_fork.space import SingleGrid\n",
    "from mesa_fork.datacollection import DataCollector\n",
    "from enum import Enum\n",
    "\n",
    "# visualization\n",
    "import numpy as np\n",
    "import matplotlib.pyplot as plt\n",
    "%matplotlib inline\n",
    "import holoviews as hv\n",
    "%load_ext holoviews.ipython\n",
    "import seaborn as sns\n",
    "sns.set_theme(style=\"darkgrid\")\n",
    "\n",
    "# parameter sweep\n",
    "from mesa_fork.batchrunner import BatchRunner, BatchRunnerMP"
   ]
  },
  {
   "cell_type": "markdown",
   "id": "traditional-royalty",
   "metadata": {
    "id": "common-allah"
   },
   "source": [
    "## Setup model"
   ]
  },
  {
   "cell_type": "code",
   "execution_count": null,
   "id": "entertaining-induction",
   "metadata": {
    "id": "nearby-herald"
   },
   "outputs": [],
   "source": [
    "# PD game\n",
    "\n",
    "class Action(Enum):\n",
    "    COOPERATE = 1\n",
    "    DEFECT    = 2\n",
    "\n",
    "    \n",
    "def pd_game(alice, bob, R=3, T=5, S=-1, P=0):\n",
    "    \n",
    "    a = alice.play()\n",
    "    b = bob.play()\n",
    "\n",
    "    if a == Action.COOPERATE:\n",
    "        if b == Action.COOPERATE:\n",
    "            alice.energy += R\n",
    "            bob.energy   += R\n",
    "        else:\n",
    "            alice.energy += S\n",
    "            bob.energy   += T\n",
    "    else:\n",
    "        if b == Action.COOPERATE:\n",
    "            alice.energy += T\n",
    "            bob.energy   += S\n",
    "        else:\n",
    "            alice.energy += P\n",
    "            bob.energy   += P\n",
    "\n",
    "    alice.energy = min(alice.energy, alice.max_energy)\n",
    "    bob.energy = min(bob.energy, bob.max_energy)\n",
    "        "
   ]
  },
  {
   "cell_type": "code",
   "execution_count": null,
   "id": "unlimited-coating",
   "metadata": {
    "id": "retained-albuquerque"
   },
   "outputs": [],
   "source": [
    "class SmaldinoAgent(Agent):\n",
    "    \n",
    "    def __init__(self, \n",
    "                 model,\n",
    "                 energy,\n",
    "                 max_energy,\n",
    "                 cooperator=False):\n",
    "        \n",
    "        super().__init__(model.next_id(), model)\n",
    "        \n",
    "        self.energy = energy\n",
    "        self.max_energy = max_energy\n",
    "        self.cooperator = cooperator\n",
    "        \n",
    "        self.played = False\n",
    "        self.newborn = False\n",
    "        \n",
    "        \n",
    "    def play(self):\n",
    "        if self.cooperator:\n",
    "            return Action.COOPERATE\n",
    "        else:\n",
    "            return Action.DEFECT\n",
    "        \n",
    "        \n",
    "    def step(self):\n",
    "        \n",
    "        # don't step if created this turn\n",
    "        if not self.newborn:\n",
    "        \n",
    "            neighbors = self.model.grid.get_neighbors(self.pos, moore=True)\n",
    "            opponents = list(filter(\n",
    "                lambda a: not a.played,\n",
    "                neighbors))\n",
    "\n",
    "            # find opponent\n",
    "            if opponents:\n",
    "                opponent = self.random.choice(opponents)\n",
    "\n",
    "                # play pd game\n",
    "                if not self.played:\n",
    "\n",
    "                    pd_game(self, opponent, self.model.R, self.model.T, self.model.S, self.model.P)\n",
    "                    self.played = True\n",
    "                    opponent.played = True\n",
    "\n",
    "                # reproduce\n",
    "                max_population = (self.model.grid.width * self.model.grid.height) / 2\n",
    "                if (    self.cooperator and self.model.cooperator_count < max_population) or \\\n",
    "                   (not self.cooperator and self.model.defector_count   < max_population):\n",
    "\n",
    "                    neighborhood = self.model.grid.get_neighborhood(self.pos, moore=True)\n",
    "                    unoccupied = list(filter(\n",
    "                        lambda c: self.model.grid.is_cell_empty(c), \n",
    "                        neighborhood))\n",
    "\n",
    "                    if self.energy > (self.model.energy_to_reproduce * 2) and unoccupied:\n",
    "\n",
    "                        cell = self.random.choice(unoccupied)\n",
    "\n",
    "                        offspring = SmaldinoAgent(self.model,\n",
    "                                                  self.model.energy_to_reproduce,\n",
    "                                                  self.max_energy,\n",
    "                                                  self.cooperator)\n",
    "                        offspring.newborn = True\n",
    "                        offspring.played = True\n",
    "\n",
    "                        self.model.grid.position_agent(offspring, cell[0], cell[1])\n",
    "                        self.model.schedule.add(offspring)\n",
    "                        \n",
    "                        if self.cooperator:\n",
    "                            self.model.cooperator_count += 1\n",
    "                        else:\n",
    "                            self.model.defector_count += 1\n",
    "\n",
    "                        self.energy -= self.model.energy_to_reproduce\n",
    "\n",
    "            elif not self.played:\n",
    "                # attempt movement\n",
    "                neighborhood = self.model.grid.get_neighborhood(self.pos, moore=True)\n",
    "                unoccupied = list(filter(\n",
    "                    lambda c: self.model.grid.is_cell_empty(c), \n",
    "                    neighborhood))\n",
    "\n",
    "                if unoccupied:\n",
    "                    cell = self.random.choice(unoccupied)\n",
    "                    self.model.grid.move_agent(self, cell)\n",
    "\n",
    "            # energy deduction (cost of living)\n",
    "            self.energy -= self.model.living_cost\n",
    "            if self.energy <= 0:\n",
    "                # die\n",
    "                self.model.grid.remove_agent(self)\n",
    "                self.model.schedule.remove(self)\n",
    "                return\n",
    "            \n",
    "        # update values for DataCollector\n",
    "        self.model.agent_count += 1\n",
    "\n",
    "        if self.cooperator:\n",
    "            self.model.cooperator_count += 1\n",
    "        else:\n",
    "            self.model.defector_count += 1\n"
   ]
  },
  {
   "cell_type": "code",
   "execution_count": null,
   "id": "wanted-priest",
   "metadata": {
    "id": "respiratory-praise"
   },
   "outputs": [],
   "source": [
    "class SPDModel(Model):\n",
    "    \n",
    "    def __init__(self,\n",
    "                 R=3, T=5, S=-1, P=0,\n",
    "                 starting_agent_count=10,\n",
    "                 starting_energies=range(1,51),\n",
    "                 max_energy=150,\n",
    "                 energy_to_reproduce=50,\n",
    "                 living_cost=1,\n",
    "                 grid_size=10,\n",
    "                 wrap=True):\n",
    "        \"\"\"\n",
    "        Smaldino's spatial prisonner's dilemma model\n",
    "        \n",
    "        Args:\n",
    "            R, T, S, P:            PD payoffs\n",
    "            starting_agent_count:  starting number of agents\n",
    "            starting_energies:     list of possible starting energies for agents (picked at random)\n",
    "            max_energy:            maximal energy an agent can hold\n",
    "            energy_to_reproduce:   energy required to reproduce\n",
    "            living_cost:           energy deducted at the end of each step\n",
    "            grid_size:             size length of square grid to use\n",
    "            wrap:                  whether to wrap grid (torus bounds)\n",
    "        \"\"\"\n",
    "        \n",
    "        super().__init__()\n",
    "        self.schedule = RandomActivation(self)\n",
    "        self.grid = SingleGrid(grid_size, grid_size, torus=wrap)\n",
    "        \n",
    "        self.R = R\n",
    "        self.T = T\n",
    "        self.S = S\n",
    "        self.P = P\n",
    "        self.energy_to_reproduce = energy_to_reproduce\n",
    "        self.living_cost = living_cost\n",
    "        \n",
    "        # Setup agents\n",
    "        self.cooperator_count = 0\n",
    "        self.defector_count = 0\n",
    "\n",
    "        for i in range(starting_agent_count):\n",
    "            energy = self.random.choice(starting_energies)\n",
    "            cooperator = i%2 == 0\n",
    "            \n",
    "            if cooperator:\n",
    "                self.cooperator_count += 1\n",
    "            else:\n",
    "                self.defector_count += 1\n",
    "            \n",
    "            agent = SmaldinoAgent(self, \n",
    "                                  energy,\n",
    "                                  max_energy,\n",
    "                                  cooperator=cooperator)\n",
    "        \n",
    "            cell = self.random.choice(list(self.grid.empties))\n",
    "\n",
    "            self.grid.position_agent(agent, cell[0], cell[1])\n",
    "            self.schedule.add(agent)\n",
    "        \n",
    "        self.agent_count = starting_agent_count\n",
    "        \n",
    "        # Init model\n",
    "        self.running = True\n",
    "        \n",
    "        self.datacollector = DataCollector(\n",
    "            {\n",
    "                \"agent_count\": \"agent_count\",\n",
    "                \"cooperator_count\": \"cooperator_count\",\n",
    "                \"defector_count\": \"defector_count\",\n",
    "            },\n",
    "        )\n",
    "        self.datacollector.collect(self)\n",
    "        \n",
    "        \n",
    "    def step(self):\n",
    "        \n",
    "        # setup for step\n",
    "        self.agent_count = 0\n",
    "        self.cooperator_count = 0\n",
    "        self.defector_count = 0\n",
    "\n",
    "        for a in self.schedule.agents:\n",
    "            a.played = False\n",
    "            a.newborn = False\n",
    "    \n",
    "        # step\n",
    "        self.schedule.step()\n",
    "        self.datacollector.collect(self)\n",
    "        \n",
    "        # stop the model if no agents are alive\n",
    "        if self.cooperator_count == 0 or self.defector_count == 0:\n",
    "            self.running = False\n"
   ]
  },
  {
   "cell_type": "markdown",
   "id": "occupied-scholarship",
   "metadata": {
    "id": "stable-estate"
   },
   "source": [
    "## Run model"
   ]
  },
  {
   "cell_type": "code",
   "execution_count": null,
   "id": "tired-victim",
   "metadata": {
    "colab": {
     "base_uri": "https://localhost:8080/",
     "height": 17
    },
    "id": "maritime-begin",
    "outputId": "5e4f8ff0-1866-43ed-d157-4a632a3c2f72"
   },
   "outputs": [],
   "source": [
    "spd = SPDModel(R=3, T=5, S=-1, P=0,\n",
    "               starting_agent_count=64,\n",
    "               starting_energies=range(1,50),\n",
    "               max_energy=150,\n",
    "               energy_to_reproduce=50,\n",
    "               living_cost=1,\n",
    "               grid_size=20,\n",
    "               wrap=True)"
   ]
  },
  {
   "cell_type": "code",
   "execution_count": null,
   "id": "comparative-cleaners",
   "metadata": {},
   "outputs": [],
   "source": [
    "i = 0\n",
    "while spd.running and i < 1000:\n",
    "    spd.step()\n",
    "    i += 1"
   ]
  },
  {
   "cell_type": "markdown",
   "id": "conventional-innocent",
   "metadata": {},
   "source": [
    "### Check results"
   ]
  },
  {
   "cell_type": "code",
   "execution_count": null,
   "id": "understanding-luxembourg",
   "metadata": {
    "colab": {
     "base_uri": "https://localhost:8080/",
     "height": 285
    },
    "id": "later-sharing",
    "outputId": "e2f9a606-8093-4323-8d10-1ab7f385ee25"
   },
   "outputs": [],
   "source": [
    "results = spd.datacollector.get_model_vars_dataframe()\n",
    "\n",
    "sns.lineplot(data=results[['cooperator_count', 'defector_count']])"
   ]
  },
  {
   "cell_type": "markdown",
   "id": "clean-banking",
   "metadata": {},
   "source": [
    "### Render visualization"
   ]
  },
  {
   "cell_type": "code",
   "execution_count": null,
   "id": "focal-transcription",
   "metadata": {},
   "outputs": [],
   "source": [
    "def value(cell):\n",
    "    if cell is None:\n",
    "        return 0\n",
    "    elif isinstance(cell, Agent):\n",
    "        if cell.cooperator:\n",
    "            return 2\n",
    "        else:\n",
    "            return 10\n",
    "    else:\n",
    "        raise Exception(\"Unidentified cell: {}\".format(cell))\n",
    "        \n",
    "hmap = hv.HoloMap(kdims='step')\n",
    "i = 0\n",
    "while spd.running and i < 100:\n",
    "    spd.step()\n",
    "    data = np.array([[value(c) for c in row] for row in spd.grid.grid])\n",
    "    hmap[i] = hv.Image(data, vdims=[hv.Dimension('State', range=(0,10))])\n",
    "    i += 1\n",
    "hmap"
   ]
  },
  {
   "cell_type": "markdown",
   "id": "elder-rings",
   "metadata": {
    "id": "former-freeze"
   },
   "source": [
    "## Paramater sweep"
   ]
  },
  {
   "cell_type": "code",
   "execution_count": null,
   "id": "defined-parade",
   "metadata": {
    "colab": {
     "base_uri": "https://localhost:8080/",
     "height": 1000
    },
    "id": "blessed-disney",
    "outputId": "613aa169-0230-484f-99ea-0039fbb134fe"
   },
   "outputs": [],
   "source": [
    "variable_parameters = {\n",
    "    \"S\": np.linspace(-2.5, 0, 10),\n",
    "}\n",
    "fixed_parameters = {\n",
    "    \"R\": 3,\n",
    "    \"T\": 5,\n",
    "    \"P\": 0,\n",
    "    \"starting_agent_count\":  64,\n",
    "    \"starting_energies\":     range(1,50),\n",
    "    \"max_energy\":            150,\n",
    "    \"energy_to_reproduce\":   50,\n",
    "    \"living_cost\":           1,\n",
    "    \"grid_size\":             20,\n",
    "    \"wrap\":                  True,\n",
    "}\n",
    "\n",
    "iterations = 1\n",
    "max_steps = 1000\n",
    "\n",
    "param_run = BatchRunnerMP(SPDModel,\n",
    "                          nr_processes=None,  # detect automatically\n",
    "                          variable_parameters=variable_parameters,\n",
    "                          fixed_parameters=fixed_parameters,\n",
    "                          iterations=iterations,\n",
    "                          max_steps=max_steps,\n",
    "                          model_reporters={\n",
    "                              \"agent_count\": lambda m: m.agent_count,\n",
    "                              \"cooperator_count\": lambda m: m.cooperator_count,\n",
    "                              \"defector_count\": lambda m: m.defector_count,\n",
    "                          })\n",
    "\n",
    "param_run.run_all()"
   ]
  },
  {
   "cell_type": "code",
   "execution_count": null,
   "id": "accessible-april",
   "metadata": {
    "colab": {
     "base_uri": "https://localhost:8080/",
     "height": 400
    },
    "id": "upset-light",
    "outputId": "324591e0-2d84-4f8d-f04c-33c54c6a61e7"
   },
   "outputs": [],
   "source": [
    "run_data = param_run.get_model_vars_dataframe()\n",
    "run_data['cooperator_frequency'] = (run_data['cooperator_count'] / run_data['agent_count'])\n",
    "run_data = run_data.dropna()\n",
    "run_data.head()"
   ]
  },
  {
   "cell_type": "code",
   "execution_count": null,
   "id": "agricultural-compilation",
   "metadata": {
    "colab": {
     "base_uri": "https://localhost:8080/",
     "height": 302
    },
    "id": "employed-football",
    "outputId": "9eeb4701-2abf-468e-f733-dacb1b9b1dcd"
   },
   "outputs": [],
   "source": [
    "sns.boxplot(x=\"S\", y=\"cooperator_frequency\", data=run_data)"
   ]
  },
  {
   "cell_type": "code",
   "execution_count": null,
   "id": "separate-running",
   "metadata": {},
   "outputs": [],
   "source": []
  }
 ],
 "metadata": {
  "colab": {
   "collapsed_sections": [],
   "name": "SPD-smaldino.ipynb",
   "provenance": []
  },
  "kernelspec": {
   "display_name": "Python 3",
   "language": "python",
   "name": "python3"
  },
  "language_info": {
   "codemirror_mode": {
    "name": "ipython",
    "version": 3
   },
   "file_extension": ".py",
   "mimetype": "text/x-python",
   "name": "python",
   "nbconvert_exporter": "python",
   "pygments_lexer": "ipython3",
   "version": "3.8.8"
  }
 },
 "nbformat": 4,
 "nbformat_minor": 5
}
