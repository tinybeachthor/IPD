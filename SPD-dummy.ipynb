{
 "cells": [
  {
   "cell_type": "markdown",
   "id": "preliminary-comedy",
   "metadata": {},
   "source": [
    "# SPD\n",
    "\n",
    "Replicate the design of [Smaldino et al. (2013)](https://www.journals.uchicago.edu/doi/10.1086/669615).\n",
    "\n",
    "Dummy agents - no interactions just movement."
   ]
  },
  {
   "cell_type": "markdown",
   "id": "gorgeous-gasoline",
   "metadata": {},
   "source": [
    "## Imports & properties"
   ]
  },
  {
   "cell_type": "code",
   "execution_count": null,
   "id": "public-being",
   "metadata": {},
   "outputs": [],
   "source": [
    "# model\n",
    "from mesa import Model, Agent\n",
    "from mesa.time import RandomActivation\n",
    "from mesa.space import SingleGrid\n",
    "from mesa.datacollection import DataCollector\n",
    "\n",
    "# visualization\n",
    "import numpy as np\n",
    "import matplotlib.pyplot as plt\n",
    "%matplotlib inline\n",
    "import holoviews as hv\n",
    "%load_ext holoviews.ipython\n",
    "import seaborn as sns\n",
    "sns.set_theme(style=\"darkgrid\")\n",
    "\n",
    "# parameter sweep\n",
    "from mesa.batchrunner import BatchRunner "
   ]
  },
  {
   "cell_type": "code",
   "execution_count": null,
   "id": "placed-treasurer",
   "metadata": {},
   "outputs": [],
   "source": [
    "# environment properties\n",
    "\n",
    "grid_size       = 10\n",
    "N               = 1\n",
    "starting_energy = 10\n",
    "living_cost     = 1\n",
    "\n",
    "max_steps       = 10e6"
   ]
  },
  {
   "cell_type": "markdown",
   "id": "sitting-protein",
   "metadata": {},
   "source": [
    "## Setup model"
   ]
  },
  {
   "cell_type": "code",
   "execution_count": null,
   "id": "indian-execution",
   "metadata": {},
   "outputs": [],
   "source": [
    "# errors\n",
    "\n",
    "class ModelError(Exception):\n",
    "    pass\n",
    "        \n",
    "class UnidentifiedCellError(ModelError):\n",
    "    pass\n"
   ]
  },
  {
   "cell_type": "code",
   "execution_count": null,
   "id": "hazardous-earth",
   "metadata": {},
   "outputs": [],
   "source": [
    "class DummyAgent(Agent):\n",
    "    \"\"\"\n",
    "    Always Abstain strategy\n",
    "    - never interacts with any other agents\n",
    "    - moves around randomly\n",
    "    - dies when energy depleted\n",
    "    \"\"\"\n",
    "    \n",
    "    def __init__(self, model, energy=starting_energy):\n",
    "        super().__init__(model.next_id(), model)\n",
    "        self.energy = energy\n",
    "        \n",
    "        \n",
    "    def step(self):\n",
    "        # pay cost of living\n",
    "        self.energy -= living_cost\n",
    "        if self.energy <= 0:\n",
    "            # agent died\n",
    "            self.model.grid.remove_agent(self)\n",
    "            self.model.schedule.remove(self)\n",
    "            return\n",
    "            \n",
    "        # alive\n",
    "        self.model.n_agents += 1\n",
    "        \n",
    "        # move to a random adjacent unoccupied square if exists\n",
    "        neighborhood = self.model.grid.get_neighborhood(self.pos, moore=True)\n",
    "        neighborhood = filter(lambda c: self.model.grid.is_cell_empty(c), neighborhood)\n",
    "        neighborhood = sorted(list(neighborhood))      \n",
    "        if neighborhood:\n",
    "            cell = self.random.choice(neighborhood)\n",
    "            self.model.grid.move_agent(self, cell)\n",
    "        "
   ]
  },
  {
   "cell_type": "code",
   "execution_count": null,
   "id": "fundamental-cartoon",
   "metadata": {},
   "outputs": [],
   "source": [
    "class SPDModel(Model):\n",
    "    \n",
    "    def __init__(self, n0=N, grid_size=grid_size, wrap=True):\n",
    "        \"\"\"\n",
    "        Args:\n",
    "            n0:         starting number of agents\n",
    "            grid_size:  size length of square grid to use\n",
    "            wrap:       whether to wrap grid\n",
    "        \"\"\"\n",
    "        super().__init__()\n",
    "        \n",
    "        self.schedule = RandomActivation(self)\n",
    "        self.grid = SingleGrid(grid_size, grid_size, torus=wrap)\n",
    "        \n",
    "        # Setup agents\n",
    "        for i in range(n0):\n",
    "            agent = DummyAgent(self)\n",
    "            self.grid.position_agent(agent)\n",
    "            self.schedule.add(agent)\n",
    "        \n",
    "        self.n_agents = n0\n",
    "        \n",
    "        # Init model\n",
    "        self.running = True\n",
    "        \n",
    "        self.datacollector = DataCollector(\n",
    "            {\n",
    "                \"n_agents\": \"n_agents\",\n",
    "            },\n",
    "            {\n",
    "                \"x\": lambda a: a.pos[0],\n",
    "                \"y\": lambda a: a.pos[1],\n",
    "            },\n",
    "        )\n",
    "        self.datacollector.collect(self)\n",
    "        \n",
    "        \n",
    "    def step(self):\n",
    "        \n",
    "        # reset model counters\n",
    "        self.n_agents = 0\n",
    "        \n",
    "        self.schedule.step()\n",
    "        self.datacollector.collect(self)\n",
    "        \n",
    "        # stop the model if no agents are alive\n",
    "        if self.n_agents == 0:\n",
    "            self.running = False\n",
    "        "
   ]
  },
  {
   "cell_type": "markdown",
   "id": "silver-democracy",
   "metadata": {},
   "source": [
    "## Run model"
   ]
  },
  {
   "cell_type": "code",
   "execution_count": null,
   "id": "traditional-wages",
   "metadata": {},
   "outputs": [],
   "source": [
    "spd = SPDModel()\n",
    "\n",
    "def value(cell):\n",
    "    if cell is None:\n",
    "        return 0\n",
    "    elif isinstance(cell, Agent):\n",
    "        return 1\n",
    "    else:\n",
    "        raise UnidentifiedCellError()\n",
    "        \n",
    "hmap = hv.HoloMap(kdims='step')\n",
    "i = 0\n",
    "while spd.running:\n",
    "    spd.step()\n",
    "    data = np.array([[value(c) for c in row] for row in spd.grid.grid])\n",
    "    hmap[i] = hv.Image(data, vdims=[hv.Dimension('State', range=(0,3))])\n",
    "    i += 1\n",
    "hmap"
   ]
  },
  {
   "cell_type": "code",
   "execution_count": null,
   "id": "coordinated-prague",
   "metadata": {},
   "outputs": [],
   "source": [
    "results = spd.datacollector.get_model_vars_dataframe()\n",
    "\n",
    "sns.lineplot(data=results)"
   ]
  },
  {
   "cell_type": "markdown",
   "id": "metropolitan-honor",
   "metadata": {},
   "source": [
    "## Paramater sweep"
   ]
  },
  {
   "cell_type": "code",
   "execution_count": null,
   "id": "solid-suspect",
   "metadata": {},
   "outputs": [],
   "source": [
    "variable_params = {\n",
    "    \"n0\": range(1,100,1),\n",
    "}\n",
    "fixed_params = {\n",
    "    \"grid_size\": grid_size,\n",
    "    \"wrap\":      True,\n",
    "}\n",
    "\n",
    "param_run = BatchRunner(SPDModel,\n",
    "                        variable_params,\n",
    "                        fixed_params,\n",
    "                        max_steps=max_steps,\n",
    "                        model_reporters={\n",
    "                            \"n_agents\": lambda m: m.n_agents,\n",
    "                        })\n",
    "\n",
    "param_run.run_all()"
   ]
  },
  {
   "cell_type": "code",
   "execution_count": null,
   "id": "weighted-catch",
   "metadata": {},
   "outputs": [],
   "source": [
    "run_data = param_run.get_model_vars_dataframe()\n",
    "\n",
    "sns.scatterplot(x=\"n0\", y=\"n_agents\", data=run_data)"
   ]
  }
 ],
 "metadata": {
  "kernelspec": {
   "display_name": "Python 3",
   "language": "python",
   "name": "python3"
  },
  "language_info": {
   "codemirror_mode": {
    "name": "ipython",
    "version": 3
   },
   "file_extension": ".py",
   "mimetype": "text/x-python",
   "name": "python",
   "nbconvert_exporter": "python",
   "pygments_lexer": "ipython3",
   "version": "3.8.8"
  }
 },
 "nbformat": 4,
 "nbformat_minor": 5
}
